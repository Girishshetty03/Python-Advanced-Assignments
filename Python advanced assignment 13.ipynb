{
 "cells": [
  {
   "cell_type": "markdown",
   "id": "ca9a1764",
   "metadata": {},
   "source": [
    "Q1. Can you create a programme or function that employs both positive and negative indexing? Is there any repercussion if you do so?"
   ]
  },
  {
   "cell_type": "code",
   "execution_count": 1,
   "id": "cbc61eb7",
   "metadata": {},
   "outputs": [
    {
     "name": "stdout",
     "output_type": "stream",
     "text": [
      "Positive Indexing -> 6\n",
      "Negative Indexing -> 10\n"
     ]
    }
   ],
   "source": [
    "my_list = [1,2,3,4,5,6,6,7,8,9,10]\n",
    "def bi_index(in_list,position):\n",
    "    return in_list[position]\n",
    "print('Positive Indexing ->',bi_index(my_list,5))\n",
    "print('Negative Indexing ->',bi_index(my_list,-1))"
   ]
  },
  {
   "cell_type": "markdown",
   "id": "017ec1d7",
   "metadata": {},
   "source": [
    "Q3. How do you slice a list to get any other part while missing the rest? (For example, suppose you want to make a new list with the elements first, third, fifth, seventh, and so on.)"
   ]
  },
  {
   "cell_type": "code",
   "execution_count": 2,
   "id": "99e338be",
   "metadata": {},
   "outputs": [
    {
     "name": "stdout",
     "output_type": "stream",
     "text": [
      "my_list -> [1, 2, 3, 4, 5, 6, 7, 8, 9, 10, 11, 12, 13, 14]\n",
      "sliced_list -> [1, 3, 5, 7, 9, 11, 13]\n"
     ]
    }
   ],
   "source": [
    "my_list = [x for x in range(1,15)]\n",
    "print(f'my_list -> {my_list}')\n",
    "sliced_list = my_list[::2]\n",
    "print(f'sliced_list -> {sliced_list}')"
   ]
  },
  {
   "cell_type": "markdown",
   "id": "37358008",
   "metadata": {},
   "source": [
    "Q4. Explain the distinctions between indexing and slicing ?\n",
    "\n",
    "Ans: Indexing is used when we have to work on index level. While slicing are used over a range of items."
   ]
  },
  {
   "cell_type": "markdown",
   "id": "515adf6e",
   "metadata": {},
   "source": [
    "Q5. What happens if one of the slicing expression's indexes is out of range?\n",
    "\n",
    "\n",
    "Ans: If start index is out of range then it will return empty entity."
   ]
  },
  {
   "cell_type": "markdown",
   "id": "2c76f034",
   "metadata": {},
   "source": [
    "Q6. If you pass a list to a function, and if you want the function to be able to change the values of the list—so that the list is different after the function returns—what action should you do?\n",
    "\n",
    "Ans: Always use return statement, if we want the see the changes in the input list."
   ]
  },
  {
   "cell_type": "code",
   "execution_count": 3,
   "id": "ba66dc72",
   "metadata": {},
   "outputs": [
    {
     "name": "stdout",
     "output_type": "stream",
     "text": [
      "[1, 2, 3, 4, 5, 6, 200]\n"
     ]
    }
   ],
   "source": [
    "my_list = [1,2,3,4,5,6]\n",
    "def modify_list(in_list):\n",
    "    in_list.append(200)\n",
    "    return in_list\n",
    "print(modify_list(my_list))"
   ]
  },
  {
   "cell_type": "markdown",
   "id": "ef70d245",
   "metadata": {},
   "source": [
    "Q7. What is the concept of an unbalanced matrix?\n",
    "\n",
    "Ans: In Unbalanced Matrix number of rows is not same as number of columns.\n",
    "\n",
    "Q8. Why is it necessary to use either list comprehension or a loop to create arbitrarily large matrices?\n",
    "\n",
    "Ans: List comprehension or a Loop helps creation of large matrices easy. it also helps to implemeent and avoid manual errors. it also makes reading code easy. Also lot of time for manual feeding is reduced."
   ]
  },
  {
   "cell_type": "code",
   "execution_count": null,
   "id": "289fb583",
   "metadata": {},
   "outputs": [],
   "source": []
  }
 ],
 "metadata": {
  "kernelspec": {
   "display_name": "Python 3 (ipykernel)",
   "language": "python",
   "name": "python3"
  },
  "language_info": {
   "codemirror_mode": {
    "name": "ipython",
    "version": 3
   },
   "file_extension": ".py",
   "mimetype": "text/x-python",
   "name": "python",
   "nbconvert_exporter": "python",
   "pygments_lexer": "ipython3",
   "version": "3.9.12"
  }
 },
 "nbformat": 4,
 "nbformat_minor": 5
}
