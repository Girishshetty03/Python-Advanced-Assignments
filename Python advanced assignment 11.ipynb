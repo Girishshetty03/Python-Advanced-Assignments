{
 "cells": [
  {
   "cell_type": "markdown",
   "id": "6a31635b",
   "metadata": {},
   "source": [
    "Q1. what is the concept of a metaclass"
   ]
  },
  {
   "cell_type": "markdown",
   "id": "a44d4da7",
   "metadata": {},
   "source": [
    "Ans: A metaclass in Python is a class of a class that defines how a class behaves. A class is itself an instance of a metaclass. A class in Python defines how the instance of the class will behave."
   ]
  },
  {
   "cell_type": "markdown",
   "id": "0de359ec",
   "metadata": {},
   "source": [
    "Q2. What is the best way to declare a class&#39;s metaclass?"
   ]
  },
  {
   "cell_type": "markdown",
   "id": "f35d2a7f",
   "metadata": {},
   "source": [
    "Ans: When defining a class and no metaclass is defined the default type metaclass will be used. If a metaclass is given and it is not an instance of type() , then it is used directly as the metaclass."
   ]
  },
  {
   "cell_type": "markdown",
   "id": "4602506a",
   "metadata": {},
   "source": [
    "Q3. How do class decorators overlap with metaclasses for handling classes?"
   ]
  },
  {
   "cell_type": "markdown",
   "id": "de066970",
   "metadata": {},
   "source": [
    "Ans: Decorators essentially automate the prior example's manual name rebinding here. Just like with metaclasses, because the decorator returns the original class, instances are made from it, not from a wrapper object."
   ]
  },
  {
   "cell_type": "markdown",
   "id": "067819e1",
   "metadata": {},
   "source": [
    "Q4. How do class decorators overlap with metaclasses for handling instances?"
   ]
  },
  {
   "cell_type": "markdown",
   "id": "288fcb62",
   "metadata": {},
   "source": [
    "Decorators essentially automate the prior example's manual name rebinding here. Just like with metaclasses, because the decorator returns the original class, instances are made from it, not from a wrapper object."
   ]
  },
  {
   "cell_type": "code",
   "execution_count": null,
   "id": "81ecfcc2",
   "metadata": {},
   "outputs": [],
   "source": []
  }
 ],
 "metadata": {
  "kernelspec": {
   "display_name": "Python 3 (ipykernel)",
   "language": "python",
   "name": "python3"
  },
  "language_info": {
   "codemirror_mode": {
    "name": "ipython",
    "version": 3
   },
   "file_extension": ".py",
   "mimetype": "text/x-python",
   "name": "python",
   "nbconvert_exporter": "python",
   "pygments_lexer": "ipython3",
   "version": "3.9.12"
  }
 },
 "nbformat": 4,
 "nbformat_minor": 5
}
